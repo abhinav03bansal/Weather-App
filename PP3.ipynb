{
 "cells": [
  {
   "cell_type": "code",
   "execution_count": 4,
   "id": "8b1b223a-bfc4-44f0-851c-0f6a24d7f659",
   "metadata": {},
   "outputs": [
    {
     "name": "stdin",
     "output_type": "stream",
     "text": [
      "Enter the name of the city:  Delhi\n"
     ]
    },
    {
     "name": "stdout",
     "output_type": "stream",
     "text": [
      "Temperature: 41.73°C\n",
      "Humidity: 17%\n",
      "Weather description: Few clouds\n"
     ]
    }
   ],
   "source": [
    "\n",
    "import requests\n",
    "\n",
    "API_KEY = 'b606f35034231dcfbe863312f26fab06'  # Replace with your actual OpenWeatherMap API key\n",
    "\n",
    "def fetch_weather_data(city):\n",
    "    base_url = 'http://api.openweathermap.org/data/2.5/weather?'\n",
    "    complete_url = f\"{base_url}appid={API_KEY}&q={city}&units=metric\"\n",
    "    response = requests.get(complete_url)\n",
    "    return response.json()\n",
    "\n",
    "def display_weather_data(weather_data):\n",
    "    if weather_data.get('cod') == 200:  # Check for successful response\n",
    "        main_data = weather_data.get('main')\n",
    "        if main_data:\n",
    "            humidity = main_data.get('humidity')\n",
    "            temperature = main_data.get('temp')\n",
    "            weather = weather_data.get('weather')\n",
    "            if weather:\n",
    "                weather_description = weather[0].get('description', 'No description available')\n",
    "            else:\n",
    "                weather_description = 'No weather information available'\n",
    "            \n",
    "            print(f\"Temperature: {temperature:.2f}°C\")\n",
    "            print(f\"Humidity: {humidity}%\")\n",
    "            print(f\"Weather description: {weather_description.capitalize()}\")\n",
    "        else:\n",
    "            print(\"Main weather data is not available. Please try again.\")\n",
    "    else:\n",
    "        print(\"City not found or there was an error. Please try again.\")\n",
    "\n",
    "def main():\n",
    "    city = input(\"Enter the name of the city: \")\n",
    "    weather_data = fetch_weather_data(city)\n",
    "    display_weather_data(weather_data)\n",
    "\n",
    "if __name__ == \"__main__\":\n",
    "    main()\n"
   ]
  },
  {
   "cell_type": "code",
   "execution_count": null,
   "id": "5391fcfb-115c-4304-ac57-a99710771408",
   "metadata": {},
   "outputs": [],
   "source": []
  }
 ],
 "metadata": {
  "kernelspec": {
   "display_name": "Python 3 (ipykernel)",
   "language": "python",
   "name": "python3"
  },
  "language_info": {
   "codemirror_mode": {
    "name": "ipython",
    "version": 3
   },
   "file_extension": ".py",
   "mimetype": "text/x-python",
   "name": "python",
   "nbconvert_exporter": "python",
   "pygments_lexer": "ipython3",
   "version": "3.12.3"
  }
 },
 "nbformat": 4,
 "nbformat_minor": 5
}
